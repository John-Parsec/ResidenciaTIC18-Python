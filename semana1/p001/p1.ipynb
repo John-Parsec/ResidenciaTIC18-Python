{
 "cells": [
  {
   "cell_type": "markdown",
   "metadata": {},
   "source": [
    "### 2. Manipulação de variáveis de tipo inteiro, explorando as características e os limites\n",
    "\n",
    "- Demonstre como funcionam os operadores aritméticos e aritméticos\n",
    "compostos em Python e destaque as principais novidades e diferenças\n",
    "em relação ao conjunto de operadores com inteiros disponíveis em\n",
    "C/C++;"
   ]
  },
  {
   "cell_type": "code",
   "execution_count": 5,
   "metadata": {},
   "outputs": [
    {
     "name": "stdout",
     "output_type": "stream",
     "text": [
      "13\n",
      "7\n",
      "30\n",
      "3.3333333333333335\n",
      "3\n",
      "1\n",
      "1000\n",
      "13\n",
      "10\n",
      "30\n",
      "10\n",
      "3\n",
      "0\n",
      "0\n"
     ]
    }
   ],
   "source": [
    "# Operadores Aritméticos\n",
    "a = 10\n",
    "b = 3\n",
    "print(a + b)  # Adicao\n",
    "print(a - b)  # Subtracao\n",
    "print(a * b)  # Multiplicacao\n",
    "print(a / b)  # Divisao                 | No C++ toda divisao é truncada, no Python a divisao é divisao real\n",
    "print(a // b)  # Divisao truncada       | E o // é a divisao truncada\n",
    "print(a % b)  # Mod\n",
    "print(a ** b)  # Exponenciacao          | No C++ esse operador nao existe\n",
    "\n",
    "# Operadores Aritméticos Compostos\n",
    "a += b  # a = a + b\n",
    "print(a)\n",
    "a -= b  # a = a - b\n",
    "print(a)\n",
    "a *= b  # a = a * b\n",
    "print(a)\n",
    "a /= b  # a = a / b\n",
    "print(a)\n",
    "a //= b  # a = a // b\n",
    "print(a)\n",
    "a %= b  # a = a % b\n",
    "print(a)\n",
    "a **= b  # a = a ** b\n",
    "print(a)\n"
   ]
  },
  {
   "cell_type": "markdown",
   "metadata": {},
   "source": [
    "- Demonstre a possibilidade de representar números inteiros\n",
    "significativamente grandes calculando o fatorial de 30 e comparando\n",
    "o resultado com o maior valor inteiro que pode ser representado em\n",
    "C/C++;"
   ]
  },
  {
   "cell_type": "code",
   "execution_count": 6,
   "metadata": {},
   "outputs": [
    {
     "name": "stdout",
     "output_type": "stream",
     "text": [
      "265252859812191058636308480000000\n"
     ]
    }
   ],
   "source": [
    "import math\n",
    "\t\n",
    "n = 30\n",
    "\n",
    "print (math.factorial(n))\n"
   ]
  },
  {
   "cell_type": "markdown",
   "metadata": {},
   "source": [
    "- As variáveis numéricas são imutáveis. Demonstre com exemplos as\n",
    "implicações desta afirmação;"
   ]
  },
  {
   "cell_type": "code",
   "execution_count": 10,
   "metadata": {},
   "outputs": [
    {
     "name": "stdout",
     "output_type": "stream",
     "text": [
      "a =  5\n",
      "b =  5\n",
      "a =  6\n",
      "b =  5\n"
     ]
    }
   ],
   "source": [
    "a = 5\n",
    "b = a\n",
    "\n",
    "print(\"a = \", a)\n",
    "print(\"b = \", b)\n",
    "\n",
    "a += 1\n",
    "\n",
    "print(\"a = \", a)\n",
    "print(\"b = \", b)"
   ]
  },
  {
   "cell_type": "markdown",
   "metadata": {},
   "source": [
    "- Verifique quais métodos estão disponíveis para as variáveis inteiras;"
   ]
  },
  {
   "cell_type": "code",
   "execution_count": 12,
   "metadata": {},
   "outputs": [
    {
     "name": "stdout",
     "output_type": "stream",
     "text": [
      "<class 'int'>\n",
      "['__abs__', '__add__', '__and__', '__bool__', '__ceil__', '__class__', '__delattr__', '__dir__', '__divmod__', '__doc__', '__eq__', '__float__', '__floor__', '__floordiv__', '__format__', '__ge__', '__getattribute__', '__getnewargs__', '__gt__', '__hash__', '__index__', '__init__', '__init_subclass__', '__int__', '__invert__', '__le__', '__lshift__', '__lt__', '__mod__', '__mul__', '__ne__', '__neg__', '__new__', '__or__', '__pos__', '__pow__', '__radd__', '__rand__', '__rdivmod__', '__reduce__', '__reduce_ex__', '__repr__', '__rfloordiv__', '__rlshift__', '__rmod__', '__rmul__', '__ror__', '__round__', '__rpow__', '__rrshift__', '__rshift__', '__rsub__', '__rtruediv__', '__rxor__', '__setattr__', '__sizeof__', '__str__', '__sub__', '__subclasshook__', '__truediv__', '__trunc__', '__xor__', 'as_integer_ratio', 'bit_count', 'bit_length', 'conjugate', 'denominator', 'from_bytes', 'imag', 'numerator', 'real', 'to_bytes']\n"
     ]
    }
   ],
   "source": [
    "a = 5\n",
    "\n",
    "print(type(a))\n",
    "\n",
    "print(dir(a))"
   ]
  },
  {
   "cell_type": "markdown",
   "metadata": {},
   "source": [
    "### 3. Manipulação de variáveis de tipo string e explorando o uso de print.\n",
    "\n",
    "- Imprima na tela, utilizando print, cada um dos caracteres numéricos e\n",
    "seu correspondente código numérico. Pesquise como modificar o\n",
    "comportamento do print para imprimir como caractere e como\n",
    "número."
   ]
  },
  {
   "cell_type": "code",
   "execution_count": 21,
   "metadata": {},
   "outputs": [
    {
     "name": "stdout",
     "output_type": "stream",
     "text": [
      "Caractere: '0', Código numérico: 48\n",
      "Caractere: '1', Código numérico: 49\n",
      "Caractere: '2', Código numérico: 50\n",
      "Caractere: '3', Código numérico: 51\n",
      "Caractere: '4', Código numérico: 52\n",
      "Caractere: '5', Código numérico: 53\n",
      "Caractere: '6', Código numérico: 54\n",
      "Caractere: '7', Código numérico: 55\n",
      "Caractere: '8', Código numérico: 56\n",
      "Caractere: '9', Código numérico: 57\n"
     ]
    }
   ],
   "source": [
    "for i in range(10):\n",
    "    print(f\"Caractere: '{chr(i + 48)}', Código numérico: {ord(chr(i + 48))}\")\n"
   ]
  },
  {
   "cell_type": "markdown",
   "metadata": {},
   "source": [
    "- Modifique o exercício anterior para que a saída imprima também o\n",
    "código numérico em octal e em hexadecimal."
   ]
  },
  {
   "cell_type": "code",
   "execution_count": 22,
   "metadata": {},
   "outputs": [
    {
     "name": "stdout",
     "output_type": "stream",
     "text": [
      "Caractere: '0', Código numérico: 48, Código octal: 0o60, Código hexadecimal: 0x30\n",
      "Caractere: '1', Código numérico: 49, Código octal: 0o61, Código hexadecimal: 0x31\n",
      "Caractere: '2', Código numérico: 50, Código octal: 0o62, Código hexadecimal: 0x32\n",
      "Caractere: '3', Código numérico: 51, Código octal: 0o63, Código hexadecimal: 0x33\n",
      "Caractere: '4', Código numérico: 52, Código octal: 0o64, Código hexadecimal: 0x34\n",
      "Caractere: '5', Código numérico: 53, Código octal: 0o65, Código hexadecimal: 0x35\n",
      "Caractere: '6', Código numérico: 54, Código octal: 0o66, Código hexadecimal: 0x36\n",
      "Caractere: '7', Código numérico: 55, Código octal: 0o67, Código hexadecimal: 0x37\n",
      "Caractere: '8', Código numérico: 56, Código octal: 0o70, Código hexadecimal: 0x38\n",
      "Caractere: '9', Código numérico: 57, Código octal: 0o71, Código hexadecimal: 0x39\n"
     ]
    }
   ],
   "source": [
    "for i in range(10):\n",
    "    print(f\"Caractere: '{chr(i + 48)}', Código numérico: {ord(chr(i + 48))}, Código octal: {oct(ord(chr(i + 48)))}, Código hexadecimal: {hex(ord(chr(i + 48)))}\")\n"
   ]
  },
  {
   "cell_type": "markdown",
   "metadata": {},
   "source": [
    "- Acrescente ao código do exercício anterior a possibilidade de ler um\n",
    "caractere qualquer e imprima no mesmo formato do inciso anterior.\n",
    "Pesquise como ler um valor da entrada padrão."
   ]
  },
  {
   "cell_type": "code",
   "execution_count": 28,
   "metadata": {},
   "outputs": [
    {
     "name": "stdout",
     "output_type": "stream",
     "text": [
      "Caractere: 'g', Código numérico: 103, Código octal: 0o147, Código hexadecimal: 0x67\n"
     ]
    }
   ],
   "source": [
    "caractere = input(\"Digite um caractere: \")\n",
    "\n",
    "print(f\"Caractere: '{caractere}', Código numérico: {ord(caractere)}, Código octal: {oct(ord(caractere))}, Código hexadecimal: {hex(ord(caractere))}\")\n"
   ]
  },
  {
   "cell_type": "markdown",
   "metadata": {},
   "source": [
    "- Pesquise como trabalha Python os caracteres especiais, ‘ç’ e ‘ã’\n",
    "por exemplo. Acrescente no código do exercício anterior um exemplo\n",
    "que demonstra como usar este recurso."
   ]
  },
  {
   "cell_type": "code",
   "execution_count": 29,
   "metadata": {},
   "outputs": [
    {
     "name": "stdout",
     "output_type": "stream",
     "text": [
      "A maçã é uma fruta muito saborosa e saudável. João gosta de comer maçãs.\n"
     ]
    }
   ],
   "source": [
    "# Em Python, os caracteres especiais como 'ç' e 'ã' são tratados como caracteres Unicode.\n",
    "# A maioria das funções de manipulação de strings em Python suporta caracteres Unicode.\n",
    "texto = \"A maçã é uma fruta muito saborosa e saudável. João gosta de comer maçãs.\"\n",
    "\n",
    "print(texto)\n"
   ]
  },
  {
   "cell_type": "markdown",
   "metadata": {},
   "source": [
    "### 4. Manipulação de variáveis de tipo string e explorando os métodos da classe.\n",
    "\n",
    "- Declare uma variável nome atribuindo a ela seu nome completo;\n",
    "- Pesquise por funcionalidades já implementadas nas strings e separe em duas variáveis novas seu nome do seu sobrenome;\n",
    "- Verifique qual das duas novas variáveis antecede a outra na ordem alfabética;\n",
    "- Verifique a quantidade de caracteres de cada uma das novas variáveis;\n",
    "- Verifique se seu nome é uma palíndromo;\n"
   ]
  },
  {
   "cell_type": "code",
   "execution_count": 19,
   "metadata": {},
   "outputs": [
    {
     "name": "stdout",
     "output_type": "stream",
     "text": [
      "Nome =  João Manoel\n",
      "Sobrenome =  A. Oliveira\n",
      "\n",
      "Sobrenome vem antes do nome\n",
      "\n",
      "Quantidade de caracteres em Nome =  11\n",
      "Quantidade de caracteres em Sobrenome =  11\n",
      "\n",
      "Nome é palíndromo?  False\n"
     ]
    }
   ],
   "source": [
    "nome = \"João Manoel A. Oliveira\"\n",
    "\n",
    "nomeCompleto = nome.split()\n",
    "\n",
    "nome = nomeCompleto[0] + \" \" + nomeCompleto[1]\n",
    "sobrenome = nomeCompleto[-2] + \" \" + nomeCompleto[-1] \n",
    "\n",
    "print(\"Nome = \", nome)\n",
    "print(\"Sobrenome = \", sobrenome, end=\"\\n\\n\")\n",
    "\n",
    "if nome < sobrenome:\n",
    "    print(\"Nome vem antes do sobrenome\", end=\"\\n\\n\")\n",
    "elif nome > sobrenome:\n",
    "    print(\"Sobrenome vem antes do nome\", end=\"\\n\\n\")\n",
    "\n",
    "print(\"Quantidade de caracteres em Nome = \", len(nome))\n",
    "print(\"Quantidade de caracteres em Sobrenome = \", len(sobrenome), end=\"\\n\\n\")\n",
    "\n",
    "nomeInvertido = nome[::-1]\n",
    "\n",
    "print(\"O nome é palíndromo? \", nome == nomeInvertido)"
   ]
  },
  {
   "cell_type": "markdown",
   "metadata": {},
   "source": [
    "### 5. Manipulação de variáveis de ponto flutuante, explorando as características e os limites.\n",
    "\n",
    "- Demonstre como funcionam os operadores aritméticos e aritméticos compostos em Python;\n"
   ]
  },
  {
   "cell_type": "code",
   "execution_count": 32,
   "metadata": {},
   "outputs": [
    {
     "name": "stdout",
     "output_type": "stream",
     "text": [
      "13.0\n",
      "7.0\n",
      "30.0\n",
      "3.3333333333333335\n",
      "3.0\n",
      "1.0\n",
      "1000.0\n",
      "13.0\n",
      "10.0\n",
      "30.0\n",
      "3.3333333333333335\n",
      "3.0\n",
      "1.0\n",
      "3162.2776601683795\n"
     ]
    }
   ],
   "source": [
    "a = 10.0\n",
    "b = 3.0\n",
    "\n",
    "print(a + b)  # Adicao\n",
    "print(a - b)  # Subtracao\n",
    "print(a * b)  # Multiplicacao\n",
    "print(a / b)  # Divisao\n",
    "print(a // b)  # Divisao truncada\n",
    "print(a % b)  # Mod\n",
    "print(a ** b)  # Exponenciacao\n",
    "\n",
    "a += b  # a = a + b\n",
    "print(a)\n",
    "a -= b  # a = a - b\n",
    "print(a)\n",
    "a *= b  # a = a * b\n",
    "print(a)\n",
    "\n",
    "a = 10.0\n",
    "b = 3.0\n",
    "a /= b  # a = a / b\n",
    "print(a)\n",
    "\n",
    "a = 10.0\n",
    "b = 3.0\n",
    "a //= b  # a = a // b\n",
    "print(a)\n",
    "\n",
    "a = 10.0\n",
    "b = 3.0\n",
    "a %= b  # a = a % b\n",
    "print(a)\n",
    "\n",
    "a = 10.0\n",
    "b = 3.5\n",
    "a **= b  # a = a ** b\n",
    "print(a)\n"
   ]
  },
  {
   "cell_type": "markdown",
   "metadata": {},
   "source": [
    "- Utilizando o operador de exponenciação mostre qual a maior e a menor potência de 2 que pode ser representada com variáveis de ponto flutuante.\n"
   ]
  },
  {
   "cell_type": "code",
   "execution_count": 33,
   "metadata": {},
   "outputs": [
    {
     "name": "stdout",
     "output_type": "stream",
     "text": [
      "Maior potência de 2 que pode ser representada: 179769313486231590772930519078902473361797697894230657273430081157732675805500963132708477322407536021120113879871393357658789768814416622492847430639474124377767893424865485276302219601246094119453082952085005768838150682342462881473913110540827237163350510684586298239947245938479716304835356329624224137216\n",
      "Menor potência de 2 que pode ser representada: 5e-324\n"
     ]
    }
   ],
   "source": [
    "import sys\n",
    "import math\n",
    "\n",
    "# Maior potência de 2 que pode ser representada\n",
    "maior_potencia_2 = 2 ** int(math.log2(sys.float_info.max))\n",
    "print(\"Maior potência de 2 que pode ser representada:\", maior_potencia_2)\n",
    "\n",
    "# Menor potência de 2 que pode ser representada\n",
    "menor_potencia_2 = 2.0 ** -1074\n",
    "print(\"Menor potência de 2 que pode ser representada:\", menor_potencia_2)\n"
   ]
  },
  {
   "cell_type": "markdown",
   "metadata": {},
   "source": [
    "- As variáveis numéricas são imutáveis. Demonstre com exemplos as implicações desta afirmação;"
   ]
  },
  {
   "cell_type": "code",
   "execution_count": 34,
   "metadata": {},
   "outputs": [
    {
     "name": "stdout",
     "output_type": "stream",
     "text": [
      "a =  5.7\n",
      "b =  5.7\n",
      "a =  6.7\n",
      "b =  5.7\n"
     ]
    }
   ],
   "source": [
    "a = 5.7\n",
    "b = a\n",
    "\n",
    "print(\"a = \", a)\n",
    "print(\"b = \", b)\n",
    "\n",
    "a += 1\n",
    "\n",
    "print(\"a = \", a)\n",
    "print(\"b = \", b)"
   ]
  },
  {
   "cell_type": "markdown",
   "metadata": {},
   "source": [
    "- Verifique quais métodos estão disponíveis para as variáveis de ponto flutuante;"
   ]
  },
  {
   "cell_type": "code",
   "execution_count": 35,
   "metadata": {},
   "outputs": [
    {
     "name": "stdout",
     "output_type": "stream",
     "text": [
      "<class 'float'>\n",
      "['__abs__', '__add__', '__bool__', '__ceil__', '__class__', '__delattr__', '__dir__', '__divmod__', '__doc__', '__eq__', '__float__', '__floor__', '__floordiv__', '__format__', '__ge__', '__getattribute__', '__getformat__', '__getnewargs__', '__gt__', '__hash__', '__init__', '__init_subclass__', '__int__', '__le__', '__lt__', '__mod__', '__mul__', '__ne__', '__neg__', '__new__', '__pos__', '__pow__', '__radd__', '__rdivmod__', '__reduce__', '__reduce_ex__', '__repr__', '__rfloordiv__', '__rmod__', '__rmul__', '__round__', '__rpow__', '__rsub__', '__rtruediv__', '__setattr__', '__setformat__', '__sizeof__', '__str__', '__sub__', '__subclasshook__', '__truediv__', '__trunc__', 'as_integer_ratio', 'conjugate', 'fromhex', 'hex', 'imag', 'is_integer', 'real']\n"
     ]
    }
   ],
   "source": [
    "a = 5.7\n",
    "\n",
    "print(type(a))\n",
    "print(dir(a))"
   ]
  },
  {
   "cell_type": "markdown",
   "metadata": {},
   "source": [
    "### 6. Manipulando listas\n",
    "\n",
    "- Dado o seguinte código, e antes de implementar, veja o que será impresso em cada caso:\n",
    "\n",
    "![title](img/lista.png)"
   ]
  },
  {
   "cell_type": "code",
   "execution_count": 36,
   "metadata": {},
   "outputs": [
    {
     "name": "stdout",
     "output_type": "stream",
     "text": [
      "[9, 8, 7, 6, 5, 4, 3, 2, 1]\n",
      "[9]\n",
      "[1, 2, 3, 4, 5, 6, 7, 8]\n",
      "[9, 7, 5, 3, 1]\n",
      "[8, 9]\n",
      "[1, 2, 3, 4, 5, 6, 7]\n"
     ]
    }
   ],
   "source": [
    "L = [1, 2, 3, 4, 5, 6, 7, 8, 9]\n",
    "\n",
    "print(L[::-1])\n",
    "print(L[-1::])\n",
    "print(L[:-1:])\n",
    "print(L[::-2])\n",
    "print(L[-2::])\n",
    "print(L[:-2:])"
   ]
  },
  {
   "cell_type": "markdown",
   "metadata": {},
   "source": [
    "- Uma forma simplificada de determinar o seu animal no zodiaco chines é\n",
    "apresentada na seguinte tabela:\n",
    "\n",
    "![title](img/zodiaco.png)\n",
    "\n",
    "\n",
    "- Descubra qual o signo de um usuário de acordo com seu ano de nascimento."
   ]
  },
  {
   "cell_type": "code",
   "execution_count": 37,
   "metadata": {},
   "outputs": [
    {
     "name": "stdout",
     "output_type": "stream",
     "text": [
      "Signo:  Dragão\n"
     ]
    }
   ],
   "source": [
    "signo = [\"Macaco\", \"Galo\", \"Cão\", \"Porco\", \"Rato\", \"Boi\", \"Tigre\", \"Coelho\", \"Dragão\", \"Serpente\", \"Cavalo\", \"Carneiro\"]\n",
    "\n",
    "ano = int(input(\"Digite o ano de nascimento: \"))\n",
    "\n",
    "print(\"Signo: \", signo[ano % 12])"
   ]
  }
 ],
 "metadata": {
  "kernelspec": {
   "display_name": "Python 3",
   "language": "python",
   "name": "python3"
  },
  "language_info": {
   "codemirror_mode": {
    "name": "ipython",
    "version": 3
   },
   "file_extension": ".py",
   "mimetype": "text/x-python",
   "name": "python",
   "nbconvert_exporter": "python",
   "pygments_lexer": "ipython3",
   "version": "3.10.13"
  }
 },
 "nbformat": 4,
 "nbformat_minor": 2
}
